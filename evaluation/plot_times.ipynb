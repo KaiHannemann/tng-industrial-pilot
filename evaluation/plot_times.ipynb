{
 "cells": [
  {
   "cell_type": "code",
   "execution_count": null,
   "metadata": {},
   "outputs": [],
   "source": [
    "#  Copyright (c) 2019 5GTANGO, Paderborn University\n",
    "# ALL RIGHTS RESERVED.\n",
    "#\n",
    "# Licensed under the Apache License, Version 2.0 (the \"License\");\n",
    "# you may not use this file except in compliance with the License.\n",
    "# You may obtain a copy of the License at\n",
    "#\n",
    "#     http://www.apache.org/licenses/LICENSE-2.0\n",
    "#\n",
    "# Unless required by applicable law or agreed to in writing, software\n",
    "# distributed under the License is distributed on an \"AS IS\" BASIS,\n",
    "# WITHOUT WARRANTIES OR CONDITIONS OF ANY KIND, either express or implied.\n",
    "# See the License for the specific language governing permissions and\n",
    "# limitations under the License.\n",
    "#\n",
    "# Neither the name of the SONATA-NFV, 5GTANGO, Paderborn University\n",
    "# nor the names of its contributors may be used to endorse or promote\n",
    "# products derived from this software without specific prior written\n",
    "# permission.\n",
    "#\n",
    "# This work has also been performed in the framework of the 5GTANGO project,\n",
    "# funded by the European Commission under Grant number 761493 through\n",
    "# the Horizon 2020 and 5G-PPP programmes. The authors would like to\n",
    "# acknowledge the contributions of their colleagues of the SONATA\n",
    "# partner consortium (www.5gtango.eu)."
   ]
  },
  {
   "cell_type": "code",
   "execution_count": 22,
   "metadata": {},
   "outputs": [],
   "source": [
    "%matplotlib inline\n",
    "\n",
    "import pandas as pd\n",
    "import numpy as np\n",
    "import matplotlib.pyplot as plt\n",
    "import seaborn as sns\n",
    "\n",
    "# global plotting settings\n",
    "plt.rcParams.update({'font.size': 14})"
   ]
  },
  {
   "cell_type": "code",
   "execution_count": 3,
   "metadata": {},
   "outputs": [
    {
     "data": {
      "text/html": [
       "<div>\n",
       "<style scoped>\n",
       "    .dataframe tbody tr th:only-of-type {\n",
       "        vertical-align: middle;\n",
       "    }\n",
       "\n",
       "    .dataframe tbody tr th {\n",
       "        vertical-align: top;\n",
       "    }\n",
       "\n",
       "    .dataframe thead th {\n",
       "        text-align: right;\n",
       "    }\n",
       "</style>\n",
       "<table border=\"1\" class=\"dataframe\">\n",
       "  <thead>\n",
       "    <tr style=\"text-align: right;\">\n",
       "      <th></th>\n",
       "      <th>instantiation</th>\n",
       "      <th>packaging</th>\n",
       "      <th>service</th>\n",
       "      <th>total</th>\n",
       "      <th>uploading</th>\n",
       "    </tr>\n",
       "  </thead>\n",
       "  <tbody>\n",
       "    <tr>\n",
       "      <th>0</th>\n",
       "      <td>3.762881</td>\n",
       "      <td>1.048635</td>\n",
       "      <td>ns1</td>\n",
       "      <td>4.974268</td>\n",
       "      <td>0.162752</td>\n",
       "    </tr>\n",
       "    <tr>\n",
       "      <th>1</th>\n",
       "      <td>3.452802</td>\n",
       "      <td>0.801207</td>\n",
       "      <td>ns1</td>\n",
       "      <td>4.416270</td>\n",
       "      <td>0.162261</td>\n",
       "    </tr>\n",
       "    <tr>\n",
       "      <th>2</th>\n",
       "      <td>3.722683</td>\n",
       "      <td>0.701120</td>\n",
       "      <td>ns1</td>\n",
       "      <td>4.574893</td>\n",
       "      <td>0.151090</td>\n",
       "    </tr>\n",
       "    <tr>\n",
       "      <th>3</th>\n",
       "      <td>3.529324</td>\n",
       "      <td>0.716238</td>\n",
       "      <td>ns1</td>\n",
       "      <td>4.409129</td>\n",
       "      <td>0.163567</td>\n",
       "    </tr>\n",
       "    <tr>\n",
       "      <th>4</th>\n",
       "      <td>3.604731</td>\n",
       "      <td>0.711161</td>\n",
       "      <td>ns1</td>\n",
       "      <td>4.474845</td>\n",
       "      <td>0.158953</td>\n",
       "    </tr>\n",
       "  </tbody>\n",
       "</table>\n",
       "</div>"
      ],
      "text/plain": [
       "   instantiation  packaging service     total  uploading\n",
       "0       3.762881   1.048635     ns1  4.974268   0.162752\n",
       "1       3.452802   0.801207     ns1  4.416270   0.162261\n",
       "2       3.722683   0.701120     ns1  4.574893   0.151090\n",
       "3       3.529324   0.716238     ns1  4.409129   0.163567\n",
       "4       3.604731   0.711161     ns1  4.474845   0.158953"
      ]
     },
     "execution_count": 3,
     "metadata": {},
     "output_type": "execute_result"
    }
   ],
   "source": [
    "results_file = 'times_ns1_ns2_50runs.pkl'\n",
    "df = pd.read_pickle(results_file)\n",
    "df.head()"
   ]
  },
  {
   "cell_type": "code",
   "execution_count": 8,
   "metadata": {},
   "outputs": [],
   "source": [
    "# get mean times for ns1 and ns2\n",
    "pkg_avg = [df.loc[df['service'] == 'ns1']['packaging'].mean(), df.loc[df['service'] == 'ns2']['packaging'].mean()]\n",
    "up_avg = [df.loc[df['service'] == 'ns1']['uploading'].mean(), df.loc[df['service'] == 'ns2']['uploading'].mean()]\n",
    "inst_avg = [df.loc[df['service'] == 'ns1']['instantiation'].mean(), df.loc[df['service'] == 'ns2']['instantiation'].mean()]"
   ]
  },
  {
   "cell_type": "code",
   "execution_count": 28,
   "metadata": {},
   "outputs": [
    {
     "data": {
      "image/png": "[encoded data removed]",
      "text/plain": [
       "<Figure size 432x288 with 1 Axes>"
      ]
     },
     "metadata": {
      "needs_background": "light"
     },
     "output_type": "display_data"
    }
   ],
   "source": [
    "# plot stacked barplots with avg times per service\n",
    "ns = [0, 1]\n",
    "times = ['packaging', 'on-boarding', 'instantiation']\n",
    "\n",
    "plt.bar(ns, pkg_avg, color='black', edgecolor='black')\n",
    "plt.bar(ns, up_avg, bottom=pkg_avg, color='gray', edgecolor='black')\n",
    "plt.bar(ns, inst_avg, bottom=up_avg, color='silver', edgecolor='black')\n",
    "\n",
    "plt.xticks(ns, ['NS1', 'NS2'])\n",
    "plt.xlabel(\"Network service\")\n",
    "plt.ylabel(\"Avg. time [s]\")\n",
    "plt.legend(times)\n",
    "\n",
    "# remove top and right border of frame\n",
    "plt.gca().spines['top'].set_visible(False)\n",
    "plt.gca().spines['right'].set_visible(False)\n",
    "\n",
    "plt.savefig('plots/barplot.pdf', bbox_inches='tight')\n",
    "plt.show()"
   ]
  },
  {
   "cell_type": "code",
   "execution_count": null,
   "metadata": {},
   "outputs": [],
   "source": []
  }
 ],
 "metadata": {
  "kernelspec": {
   "display_name": "venv-tango",
   "language": "python",
   "name": "venv-tango"
  },
  "language_info": {
   "codemirror_mode": {
    "name": "ipython",
    "version": 3
   },
   "file_extension": ".py",
   "mimetype": "text/x-python",
   "name": "python",
   "nbconvert_exporter": "python",
   "pygments_lexer": "ipython3",
   "version": "3.7.0"
  }
 },
 "nbformat": 4,
 "nbformat_minor": 2
}
