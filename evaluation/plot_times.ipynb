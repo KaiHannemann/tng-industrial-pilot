{
 "cells": [
  {
   "cell_type": "code",
   "execution_count": 116,
   "metadata": {},
   "outputs": [],
   "source": [
    "#  Copyright (c) 2019 5GTANGO, Paderborn University\n",
    "# ALL RIGHTS RESERVED.\n",
    "#\n",
    "# Licensed under the Apache License, Version 2.0 (the \"License\");\n",
    "# you may not use this file except in compliance with the License.\n",
    "# You may obtain a copy of the License at\n",
    "#\n",
    "#     http://www.apache.org/licenses/LICENSE-2.0\n",
    "#\n",
    "# Unless required by applicable law or agreed to in writing, software\n",
    "# distributed under the License is distributed on an \"AS IS\" BASIS,\n",
    "# WITHOUT WARRANTIES OR CONDITIONS OF ANY KIND, either express or implied.\n",
    "# See the License for the specific language governing permissions and\n",
    "# limitations under the License.\n",
    "#\n",
    "# Neither the name of the SONATA-NFV, 5GTANGO, Paderborn University\n",
    "# nor the names of its contributors may be used to endorse or promote\n",
    "# products derived from this software without specific prior written\n",
    "# permission.\n",
    "#\n",
    "# This work has also been performed in the framework of the 5GTANGO project,\n",
    "# funded by the European Commission under Grant number 761493 through\n",
    "# the Horizon 2020 and 5G-PPP programmes. The authors would like to\n",
    "# acknowledge the contributions of their colleagues of the SONATA\n",
    "# partner consortium (www.5gtango.eu)."
   ]
  },
  {
   "cell_type": "code",
   "execution_count": 117,
   "metadata": {},
   "outputs": [],
   "source": [
    "%matplotlib inline\n",
    "\n",
    "import pandas as pd\n",
    "import numpy as np\n",
    "import matplotlib.pyplot as plt\n",
    "from matplotlib import mlab\n",
    "import seaborn as sns\n",
    "\n",
    "# global plotting settings\n",
    "plt.rcParams.update({'font.size': 14})"
   ]
  },
  {
   "cell_type": "code",
   "execution_count": 118,
   "metadata": {},
   "outputs": [
    {
     "data": {
      "text/html": [
       "<div>\n",
       "<style scoped>\n",
       "    .dataframe tbody tr th:only-of-type {\n",
       "        vertical-align: middle;\n",
       "    }\n",
       "\n",
       "    .dataframe tbody tr th {\n",
       "        vertical-align: top;\n",
       "    }\n",
       "\n",
       "    .dataframe thead th {\n",
       "        text-align: right;\n",
       "    }\n",
       "</style>\n",
       "<table border=\"1\" class=\"dataframe\">\n",
       "  <thead>\n",
       "    <tr style=\"text-align: right;\">\n",
       "      <th></th>\n",
       "      <th>instantiation</th>\n",
       "      <th>packaging</th>\n",
       "      <th>service</th>\n",
       "      <th>total</th>\n",
       "      <th>uploading</th>\n",
       "    </tr>\n",
       "  </thead>\n",
       "  <tbody>\n",
       "    <tr>\n",
       "      <th>0</th>\n",
       "      <td>3.762881</td>\n",
       "      <td>1.048635</td>\n",
       "      <td>ns1</td>\n",
       "      <td>4.974268</td>\n",
       "      <td>0.162752</td>\n",
       "    </tr>\n",
       "    <tr>\n",
       "      <th>1</th>\n",
       "      <td>3.452802</td>\n",
       "      <td>0.801207</td>\n",
       "      <td>ns1</td>\n",
       "      <td>4.416270</td>\n",
       "      <td>0.162261</td>\n",
       "    </tr>\n",
       "    <tr>\n",
       "      <th>2</th>\n",
       "      <td>3.722683</td>\n",
       "      <td>0.701120</td>\n",
       "      <td>ns1</td>\n",
       "      <td>4.574893</td>\n",
       "      <td>0.151090</td>\n",
       "    </tr>\n",
       "    <tr>\n",
       "      <th>3</th>\n",
       "      <td>3.529324</td>\n",
       "      <td>0.716238</td>\n",
       "      <td>ns1</td>\n",
       "      <td>4.409129</td>\n",
       "      <td>0.163567</td>\n",
       "    </tr>\n",
       "    <tr>\n",
       "      <th>4</th>\n",
       "      <td>3.604731</td>\n",
       "      <td>0.711161</td>\n",
       "      <td>ns1</td>\n",
       "      <td>4.474845</td>\n",
       "      <td>0.158953</td>\n",
       "    </tr>\n",
       "  </tbody>\n",
       "</table>\n",
       "</div>"
      ],
      "text/plain": [
       "   instantiation  packaging service     total  uploading\n",
       "0       3.762881   1.048635     ns1  4.974268   0.162752\n",
       "1       3.452802   0.801207     ns1  4.416270   0.162261\n",
       "2       3.722683   0.701120     ns1  4.574893   0.151090\n",
       "3       3.529324   0.716238     ns1  4.409129   0.163567\n",
       "4       3.604731   0.711161     ns1  4.474845   0.158953"
      ]
     },
     "execution_count": 118,
     "metadata": {},
     "output_type": "execute_result"
    }
   ],
   "source": [
    "results_file = 'times_ns1_ns2_50runs.pkl'\n",
    "df = pd.read_pickle(results_file)\n",
    "df.head()"
   ]
  },
  {
   "cell_type": "code",
   "execution_count": 119,
   "metadata": {},
   "outputs": [
    {
     "data": {
      "text/html": [
       "<div>\n",
       "<style scoped>\n",
       "    .dataframe tbody tr th:only-of-type {\n",
       "        vertical-align: middle;\n",
       "    }\n",
       "\n",
       "    .dataframe tbody tr th {\n",
       "        vertical-align: top;\n",
       "    }\n",
       "\n",
       "    .dataframe thead th {\n",
       "        text-align: right;\n",
       "    }\n",
       "</style>\n",
       "<table border=\"1\" class=\"dataframe\">\n",
       "  <thead>\n",
       "    <tr style=\"text-align: right;\">\n",
       "      <th></th>\n",
       "      <th>instantiation</th>\n",
       "      <th>packaging</th>\n",
       "      <th>total</th>\n",
       "      <th>uploading</th>\n",
       "    </tr>\n",
       "  </thead>\n",
       "  <tbody>\n",
       "    <tr>\n",
       "      <th>count</th>\n",
       "      <td>50.000000</td>\n",
       "      <td>50.000000</td>\n",
       "      <td>50.000000</td>\n",
       "      <td>50.000000</td>\n",
       "    </tr>\n",
       "    <tr>\n",
       "      <th>mean</th>\n",
       "      <td>3.383252</td>\n",
       "      <td>0.707223</td>\n",
       "      <td>4.246318</td>\n",
       "      <td>0.155843</td>\n",
       "    </tr>\n",
       "    <tr>\n",
       "      <th>std</th>\n",
       "      <td>0.166058</td>\n",
       "      <td>0.058585</td>\n",
       "      <td>0.197616</td>\n",
       "      <td>0.006585</td>\n",
       "    </tr>\n",
       "    <tr>\n",
       "      <th>min</th>\n",
       "      <td>3.109689</td>\n",
       "      <td>0.666634</td>\n",
       "      <td>3.944642</td>\n",
       "      <td>0.144192</td>\n",
       "    </tr>\n",
       "    <tr>\n",
       "      <th>25%</th>\n",
       "      <td>3.240762</td>\n",
       "      <td>0.685533</td>\n",
       "      <td>4.081511</td>\n",
       "      <td>0.151243</td>\n",
       "    </tr>\n",
       "    <tr>\n",
       "      <th>50%</th>\n",
       "      <td>3.377414</td>\n",
       "      <td>0.694051</td>\n",
       "      <td>4.227606</td>\n",
       "      <td>0.154952</td>\n",
       "    </tr>\n",
       "    <tr>\n",
       "      <th>75%</th>\n",
       "      <td>3.488612</td>\n",
       "      <td>0.704158</td>\n",
       "      <td>4.376635</td>\n",
       "      <td>0.159582</td>\n",
       "    </tr>\n",
       "    <tr>\n",
       "      <th>max</th>\n",
       "      <td>3.778865</td>\n",
       "      <td>1.048635</td>\n",
       "      <td>4.974268</td>\n",
       "      <td>0.179338</td>\n",
       "    </tr>\n",
       "  </tbody>\n",
       "</table>\n",
       "</div>"
      ],
      "text/plain": [
       "       instantiation  packaging      total  uploading\n",
       "count      50.000000  50.000000  50.000000  50.000000\n",
       "mean        3.383252   0.707223   4.246318   0.155843\n",
       "std         0.166058   0.058585   0.197616   0.006585\n",
       "min         3.109689   0.666634   3.944642   0.144192\n",
       "25%         3.240762   0.685533   4.081511   0.151243\n",
       "50%         3.377414   0.694051   4.227606   0.154952\n",
       "75%         3.488612   0.704158   4.376635   0.159582\n",
       "max         3.778865   1.048635   4.974268   0.179338"
      ]
     },
     "execution_count": 119,
     "metadata": {},
     "output_type": "execute_result"
    }
   ],
   "source": [
    "# stats for NS1 (to be used in deliverable)\n",
    "df.loc[df['service'] == 'ns1'].describe()"
   ]
  },
  {
   "cell_type": "code",
   "execution_count": 120,
   "metadata": {},
   "outputs": [
    {
     "data": {
      "text/html": [
       "<div>\n",
       "<style scoped>\n",
       "    .dataframe tbody tr th:only-of-type {\n",
       "        vertical-align: middle;\n",
       "    }\n",
       "\n",
       "    .dataframe tbody tr th {\n",
       "        vertical-align: top;\n",
       "    }\n",
       "\n",
       "    .dataframe thead th {\n",
       "        text-align: right;\n",
       "    }\n",
       "</style>\n",
       "<table border=\"1\" class=\"dataframe\">\n",
       "  <thead>\n",
       "    <tr style=\"text-align: right;\">\n",
       "      <th></th>\n",
       "      <th>instantiation</th>\n",
       "      <th>packaging</th>\n",
       "      <th>total</th>\n",
       "      <th>uploading</th>\n",
       "    </tr>\n",
       "  </thead>\n",
       "  <tbody>\n",
       "    <tr>\n",
       "      <th>count</th>\n",
       "      <td>50.000000</td>\n",
       "      <td>50.000000</td>\n",
       "      <td>50.000000</td>\n",
       "      <td>50.000000</td>\n",
       "    </tr>\n",
       "    <tr>\n",
       "      <th>mean</th>\n",
       "      <td>2.559891</td>\n",
       "      <td>0.729286</td>\n",
       "      <td>3.423341</td>\n",
       "      <td>0.134164</td>\n",
       "    </tr>\n",
       "    <tr>\n",
       "      <th>std</th>\n",
       "      <td>0.072613</td>\n",
       "      <td>0.118982</td>\n",
       "      <td>0.148608</td>\n",
       "      <td>0.007445</td>\n",
       "    </tr>\n",
       "    <tr>\n",
       "      <th>min</th>\n",
       "      <td>2.405099</td>\n",
       "      <td>0.659244</td>\n",
       "      <td>3.193834</td>\n",
       "      <td>0.124057</td>\n",
       "    </tr>\n",
       "    <tr>\n",
       "      <th>25%</th>\n",
       "      <td>2.515052</td>\n",
       "      <td>0.674594</td>\n",
       "      <td>3.344404</td>\n",
       "      <td>0.128977</td>\n",
       "    </tr>\n",
       "    <tr>\n",
       "      <th>50%</th>\n",
       "      <td>2.550688</td>\n",
       "      <td>0.685920</td>\n",
       "      <td>3.389886</td>\n",
       "      <td>0.132780</td>\n",
       "    </tr>\n",
       "    <tr>\n",
       "      <th>75%</th>\n",
       "      <td>2.590530</td>\n",
       "      <td>0.712781</td>\n",
       "      <td>3.458592</td>\n",
       "      <td>0.136968</td>\n",
       "    </tr>\n",
       "    <tr>\n",
       "      <th>max</th>\n",
       "      <td>2.795256</td>\n",
       "      <td>1.165832</td>\n",
       "      <td>3.957522</td>\n",
       "      <td>0.160167</td>\n",
       "    </tr>\n",
       "  </tbody>\n",
       "</table>\n",
       "</div>"
      ],
      "text/plain": [
       "       instantiation  packaging      total  uploading\n",
       "count      50.000000  50.000000  50.000000  50.000000\n",
       "mean        2.559891   0.729286   3.423341   0.134164\n",
       "std         0.072613   0.118982   0.148608   0.007445\n",
       "min         2.405099   0.659244   3.193834   0.124057\n",
       "25%         2.515052   0.674594   3.344404   0.128977\n",
       "50%         2.550688   0.685920   3.389886   0.132780\n",
       "75%         2.590530   0.712781   3.458592   0.136968\n",
       "max         2.795256   1.165832   3.957522   0.160167"
      ]
     },
     "execution_count": 120,
     "metadata": {},
     "output_type": "execute_result"
    }
   ],
   "source": [
    "# stats for NS2 (to be used in deliverable)\n",
    "df.loc[df['service'] == 'ns2'].describe()"
   ]
  },
  {
   "cell_type": "code",
   "execution_count": 121,
   "metadata": {},
   "outputs": [],
   "source": [
    "# get mean times for ns1 and ns2\n",
    "pkg_avg = [df.loc[df['service'] == 'ns1']['packaging'].mean(), df.loc[df['service'] == 'ns2']['packaging'].mean()]\n",
    "up_avg = [df.loc[df['service'] == 'ns1']['uploading'].mean(), df.loc[df['service'] == 'ns2']['uploading'].mean()]\n",
    "inst_avg = [df.loc[df['service'] == 'ns1']['instantiation'].mean(), df.loc[df['service'] == 'ns2']['instantiation'].mean()]"
   ]
  },
  {
   "cell_type": "code",
   "execution_count": 122,
   "metadata": {},
   "outputs": [
    {
     "data": {
      "image/png": "[encoded data removed]",
      "text/plain": [
       "<Figure size 432x288 with 1 Axes>"
      ]
     },
     "metadata": {
      "needs_background": "light"
     },
     "output_type": "display_data"
    }
   ],
   "source": [
    "# plot stacked barplots with avg times per service\n",
    "ns = [0, 1]\n",
    "times = ['packaging', 'on-boarding', 'instantiation']\n",
    "\n",
    "plt.bar(ns, pkg_avg, color='black', edgecolor='black')\n",
    "plt.bar(ns, up_avg, bottom=pkg_avg, color='gray', edgecolor='black')\n",
    "plt.bar(ns, inst_avg, bottom=up_avg, color='silver', edgecolor='black')\n",
    "\n",
    "plt.xticks(ns, ['NS1', 'NS2'])\n",
    "plt.xlabel(\"Network service\")\n",
    "plt.ylabel(\"Avg. time [s]\")\n",
    "plt.legend(times)\n",
    "\n",
    "plt.gca().spines['top'].set_visible(False)\n",
    "plt.gca().spines['right'].set_visible(False)\n",
    "\n",
    "plt.savefig('plots/barplot.pdf', bbox_inches='tight')\n",
    "plt.show()"
   ]
  },
  {
   "cell_type": "code",
   "execution_count": 123,
   "metadata": {},
   "outputs": [],
   "source": [
    "# plot CDF of times in specified column name\n",
    "def plot_cdf(column_name, plot_name):\n",
    "    ns1_times = df.loc[df['service'] == 'ns1'][column_name]\n",
    "    ns2_times = df.loc[df['service'] == 'ns2'][column_name]\n",
    "    num_times = ns1_times.shape[0]\n",
    "\n",
    "    plt.hist(ns1_times, num_times, density=1, histtype='step', cumulative=True)\n",
    "    plt.hist(ns2_times, num_times, density=1, histtype='step', cumulative=True)\n",
    "    # drop at the end is an artifact of this hist plotting function\n",
    "\n",
    "    plt.xlabel(f\"{plot_name} times [s]\")\n",
    "    plt.ylabel(\"CDF\")\n",
    "    plt.legend(['NS1', 'NS2'], loc=4)\n",
    "\n",
    "    plt.gca().spines['top'].set_visible(False)\n",
    "    plt.gca().spines['right'].set_visible(False)\n",
    "\n",
    "    plt.savefig(f'plots/cdf_{column_name}.pdf', bbox_inches='tight')\n",
    "    plt.show()"
   ]
  },
  {
   "cell_type": "code",
   "execution_count": 124,
   "metadata": {},
   "outputs": [],
   "source": [
    "# nicer CDF plots\n",
    "# from https://github.com/mpeuster/paper-ijnm-jouornal-sdn-handover/blob/master/evaluation/eval_packet_delay_cdf.ipynb\n",
    "\n",
    "# calc and plot CDF (used within other function)\n",
    "def calc_plot_cdf(sorted_list, bin_range, bins=1000, ls='-'):\n",
    "    counts, bins = np.histogram(sorted_list, range=bin_range, bins=bins)\n",
    "    cdf = np.cumsum(counts)/np.sum(counts)\n",
    "    plt.plot(np.vstack((bins, np.roll(bins, -1))).T.flatten()[:-2], np.vstack((cdf, cdf)).T.flatten(), antialiased=True, lw=1.5, ls=ls, color='black')\n",
    "\n",
    "def plot_nicer_cdf(column_name, plot_name):\n",
    "    # select times for NS1 and NS2\n",
    "    ns1_times = df.loc[df['service'] == 'ns1'][column_name]\n",
    "    ns1_times_sortlist = np.sort(ns1_times.tolist())\n",
    "    ns2_times = df.loc[df['service'] == 'ns2'][column_name]\n",
    "    ns2_times_sortlist = np.sort(ns2_times.tolist())\n",
    "\n",
    "    # calc and plot CDFs\n",
    "    min_time = min(ns1_times_sortlist.min(), ns2_times_sortlist.min())\n",
    "    max_time = max(ns1_times_sortlist.max(), ns2_times_sortlist.max())\n",
    "    calc_plot_cdf(ns1_times_sortlist, [min_time, max_time], ls='-')    \n",
    "    calc_plot_cdf(ns2_times_sortlist, [min_time, max_time], ls='--')\n",
    "    \n",
    "    # polish, save, and show plots\n",
    "    plt.ylim(0, 1)\n",
    "    plt.xlabel(f\"{plot_name} times [s]\")\n",
    "    plt.ylabel(\"CDF\")\n",
    "    plt.legend(['NS1', 'NS2'], loc=4)\n",
    "    \n",
    "    plt.gca().spines['top'].set_visible(False)\n",
    "    plt.gca().spines['right'].set_visible(False)\n",
    "\n",
    "    plt.savefig(f'plots/cdf_{column_name}.pdf', bbox_inches='tight')"
   ]
  },
  {
   "cell_type": "code",
   "execution_count": 125,
   "metadata": {},
   "outputs": [
    {
     "data": {
      "image/png": "[encoded data removed]",
      "text/plain": [
       "<Figure size 432x288 with 1 Axes>"
      ]
     },
     "metadata": {
      "needs_background": "light"
     },
     "output_type": "display_data"
    }
   ],
   "source": [
    "plot_nicer_cdf('packaging', 'Packaging')"
   ]
  },
  {
   "cell_type": "code",
   "execution_count": 126,
   "metadata": {},
   "outputs": [
    {
     "data": {
      "image/png": "[encoded data removed]",
      "text/plain": [
       "<Figure size 432x288 with 1 Axes>"
      ]
     },
     "metadata": {
      "needs_background": "light"
     },
     "output_type": "display_data"
    }
   ],
   "source": [
    "plot_nicer_cdf('uploading', 'On-boarding')"
   ]
  },
  {
   "cell_type": "code",
   "execution_count": 127,
   "metadata": {},
   "outputs": [
    {
     "data": {
      "image/png": "[encoded data removed]",
      "text/plain": [
       "<Figure size 432x288 with 1 Axes>"
      ]
     },
     "metadata": {
      "needs_background": "light"
     },
     "output_type": "display_data"
    }
   ],
   "source": [
    "plot_nicer_cdf('instantiation', 'Instantiation')"
   ]
  },
  {
   "cell_type": "code",
   "execution_count": 128,
   "metadata": {},
   "outputs": [
    {
     "data": {
      "image/png": "[encoded data removed]",
      "text/plain": [
       "<Figure size 432x288 with 1 Axes>"
      ]
     },
     "metadata": {
      "needs_background": "light"
     },
     "output_type": "display_data"
    }
   ],
   "source": [
    "plot_nicer_cdf('total', 'Total startup')"
   ]
  },
  {
   "cell_type": "code",
   "execution_count": 133,
   "metadata": {},
   "outputs": [
    {
     "data": {
      "text/plain": [
       "<matplotlib.axes._subplots.AxesSubplot at 0x1c34897cc88>"
      ]
     },
     "execution_count": 133,
     "metadata": {},
     "output_type": "execute_result"
    },
    {
     "data": {
      "image/png": "[encoded data removed]",
      "text/plain": [
       "<Figure size 432x288 with 1 Axes>"
      ]
     },
     "metadata": {
      "needs_background": "light"
     },
     "output_type": "display_data"
    }
   ],
   "source": [
    "# histogram\n",
    "ns1_times = df.loc[df['service'] == 'ns1']['total']\n",
    "ns2_times = df.loc[df['service'] == 'ns2']['total']\n",
    "sns.distplot(ns1_times, hist=False)\n",
    "sns.distplot(ns2_times, hist=False)"
   ]
  }
 ],
 "metadata": {
  "kernelspec": {
   "display_name": "venv-tango",
   "language": "python",
   "name": "venv-tango"
  },
  "language_info": {
   "codemirror_mode": {
    "name": "ipython",
    "version": 3
   },
   "file_extension": ".py",
   "mimetype": "text/x-python",
   "name": "python",
   "nbconvert_exporter": "python",
   "pygments_lexer": "ipython3",
   "version": "3.7.0"
  }
 },
 "nbformat": 4,
 "nbformat_minor": 2
}
